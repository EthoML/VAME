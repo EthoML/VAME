{
 "cells": [
  {
   "cell_type": "markdown",
   "id": "d1410467",
   "metadata": {},
   "source": [
    "If you haven't yet, please install VAME:"
   ]
  },
  {
   "cell_type": "code",
   "execution_count": null,
   "id": "2a9c4951-4ff1-4604-be12-0a7851aef6d3",
   "metadata": {
    "vscode": {
     "languageId": "bat"
    }
   },
   "outputs": [],
   "source": [
    "pip install vame-py"
   ]
  },
  {
   "cell_type": "markdown",
   "id": "cdfb5249-3464-4172-a212-cd84c4cd0723",
   "metadata": {},
   "source": [
    "The VAME workflow consists of four main steps, plus optional analysis:\n",
    "\n",
    "1. **Initialize project**: In this step we will start the project and get your pose estimation data into the `movement` format\n",
    "2. **Preprocess**: This step will perform cleaning, filtering and alignment of the raw pose estimation data\n",
    "3. **Train the VAME model**:\n",
    "    - Split the input data into training and test datasets.\n",
    "    - Train the VAME model to embed behavioural dynamics.\n",
    "    - Evaluate the performance of the trained model based on its reconstruction capabilities.\n",
    "4. **Segment behavior**:\n",
    "    - Segment pose estimation time series into behavioral motifs, using HMM or K-means.\n",
    "    - Group similar motifs into communities, using hierarchical clustering.\n",
    "5. **Vizualization and analysis [Optional]**:\n",
    "    - Visualization and projection of latent vectors onto a 2D plane via UMAP.\n",
    "    - Create motif and community videos.\n",
    "    - Use the generative model (reconstruction decoder) to sample from the learned data distribution."
   ]
  },
  {
   "cell_type": "markdown",
   "id": "ade5d437",
   "metadata": {},
   "source": [
    "Let's start by importing the necessary libraries:"
   ]
  },
  {
   "cell_type": "code",
   "execution_count": null,
   "id": "513720cd-5df8-4f2d-9ab8-248594e0dcab",
   "metadata": {},
   "outputs": [],
   "source": [
    "import vame\n",
    "from vame.util.sample_data import download_sample_data\n",
    "from pathlib import Path"
   ]
  },
  {
   "cell_type": "markdown",
   "id": "475247b2-029d-4f25-8080-b90bfbb579a2",
   "metadata": {},
   "source": [
    "## Input data\n",
    "\n",
    "To quickly try VAME, you can download sample data and use it as input. If you want to work with your own data, all you need to do is to provide the paths to the pose estimation files as lists of strings. You can also optionally provide the paths to the corresponding video files."
   ]
  },
  {
   "cell_type": "code",
   "execution_count": null,
   "id": "329eb6ae-e676-4f30-a54a-90e8b179ab21",
   "metadata": {},
   "outputs": [],
   "source": [
    "# You can run VAME with data from different sources:\n",
    "# \"DeepLabCut\", \"SLEAP\" or \"LightningPose\"\n",
    "source_software = \"DeepLabCut\"\n",
    "\n",
    "# Download sample data\n",
    "ps = download_sample_data(source_software)\n",
    "videos = [ps[\"video\"]]\n",
    "poses_estimations = [ps[\"poses\"]]\n",
    "\n",
    "print(videos)\n",
    "print(poses_estimations)"
   ]
  },
  {
   "cell_type": "markdown",
   "id": "848be459-37b1-4607-81a3-686cc0df9c0d",
   "metadata": {},
   "source": [
    "## Step 1: Initialize your project\n",
    "\n",
    "VAME organizes around projects. To start a new project, you need to define some basic things:\n",
    "- the project's name\n",
    "- the paths to the pose estimation files\n",
    "- the source software used to produce the pose estimation data"
   ]
  },
  {
   "cell_type": "code",
   "execution_count": null,
   "id": "e845cce0-5711-474c-b249-f0f539b9329b",
   "metadata": {},
   "outputs": [],
   "source": [
    "config_file, config_data = vame.init_new_project(\n",
    "    project_name=\"my_vame_project\",\n",
    "    poses_estimations=poses_estimations,\n",
    "    source_software=\"DeepLabCut\",\n",
    ")"
   ]
  },
  {
   "cell_type": "markdown",
   "id": "c8cae612-d0a9-47e4-a006-bd57a2c31c39",
   "metadata": {},
   "source": [
    "This command will create a project folder in the defined working directory with the project name you defined.\n",
    "In this folder you can find a config file called [config.yaml](/docs/project-config) which holds the main parameters for the VAME workflow.\n",
    "\n",
    "The videos and pose estimation files will be linked or copied to the project folder.\n",
    "\n",
    "Let's take a look at the project's configuration:"
   ]
  },
  {
   "cell_type": "code",
   "execution_count": null,
   "id": "d4ab25e0-6e14-47f9-93b6-2d9100df56c4",
   "metadata": {},
   "outputs": [],
   "source": [
    "print(config_data)"
   ]
  },
  {
   "cell_type": "markdown",
   "id": "884d6414-2d34-462e-9d2d-0aefe304a4ba",
   "metadata": {},
   "source": [
    "Now let's take a look at the formatted input dataset:"
   ]
  },
  {
   "cell_type": "code",
   "execution_count": null,
   "id": "b299160d-b9cf-48d7-bdc7-f8576a1977a3",
   "metadata": {},
   "outputs": [],
   "source": [
    "ds_path = Path(config_data[\"project_path\"]) / \"data\" / \"raw\" / f\"{config_data['session_names'][0]}.nc\"\n",
    "vame.io.load_poses.load_vame_dataset(ds_path)"
   ]
  },
  {
   "cell_type": "markdown",
   "id": "562863d9-62f0-4827-a61f-63aa980912fd",
   "metadata": {},
   "source": [
    "## Step 2: Preprocess the raw pose estimation data\n",
    "The preprocessing step includes:\n",
    "\n",
    "#### Cleaning low confidence data points\n",
    "Pose estimation data points with confidence below the threshold will be cleared and interpolated.\n",
    "\n",
    "#### Egocentric alignment using key reference points\n",
    "Based on two reference keypoints, the data will be aligned to an egocentric coordinate system:\n",
    "- `centered_reference_keypoint`: The keypoint that will be centered in the frame.\n",
    "- `orientation_reference_keypoint`: The keypoint that will be used to determine the rotation of the frame.\n",
    "\n",
    "By consequence, the `x` and `y` coordinates of the `centered_reference_keypoint` and the `x` coordinate of the `orientation_reference_keypoint` will be set to an array of zeros, and further removed from the dataset.\n",
    "\n",
    "#### Outlier cleaning\n",
    "Outliers will be removed based on the interquartile range (IQR) method. This means that data points that are below `Q1 - iqr_factor * IQR` or above `Q3 + iqr_factor * IQR` will be cleared and interpolated.\n",
    "\n",
    "#### Savitzky-Golay filtering\n",
    "The data will be further smoothed using a Savitzky-Golay filter."
   ]
  },
  {
   "cell_type": "code",
   "execution_count": null,
   "id": "663d8eb6-65ff-4a6c-af5f-b0100e4edaa4",
   "metadata": {},
   "outputs": [],
   "source": [
    "vame.preprocessing(\n",
    "    config=config_data,\n",
    "    centered_reference_keypoint=\"snout\",\n",
    "    orientation_reference_keypoint=\"tailbase\",\n",
    ")"
   ]
  },
  {
   "cell_type": "markdown",
   "id": "2cc98082-c46f-4afe-b544-f84328ee3eb0",
   "metadata": {},
   "source": [
    "## Step 3: Train the VAME model"
   ]
  },
  {
   "cell_type": "markdown",
   "id": "66f0eba3-ee31-46d5-9d6a-6d0c404443ad",
   "metadata": {},
   "source": [
    "At this point, we will prepare the data for training the VAME model, run the training and evaluate the model.\n",
    "\n",
    "We start by splitting the input data into train and test sets:"
   ]
  },
  {
   "cell_type": "code",
   "execution_count": null,
   "id": "15e9a8d6-2304-4c3d-b952-834f504885c7",
   "metadata": {},
   "outputs": [],
   "source": [
    "vame.create_trainset(config=config_data)"
   ]
  },
  {
   "cell_type": "markdown",
   "id": "4c860b1d-f3e8-4526-b243-0ef11631a66e",
   "metadata": {},
   "source": [
    "Now we can train the VAME model. This migth take a while, depending on dataset size and your hardware."
   ]
  },
  {
   "cell_type": "code",
   "execution_count": null,
   "id": "430dca7b-383c-4a20-b205-89ed6bc9c991",
   "metadata": {
    "scrolled": true
   },
   "outputs": [],
   "source": [
    "vame.train_model(config=config_data)"
   ]
  },
  {
   "cell_type": "markdown",
   "id": "2a7c5afb-ba30-491a-a791-d9bac8e65092",
   "metadata": {},
   "source": [
    "The model evaluation produces two plots, one showing the loss of the model during training and the other showing the reconstruction and future prediction of input sequence."
   ]
  },
  {
   "cell_type": "code",
   "execution_count": null,
   "id": "b22cf723-7c2f-4531-bd25-da454df626d3",
   "metadata": {},
   "outputs": [],
   "source": [
    "vame.evaluate_model(config=config_data)"
   ]
  },
  {
   "cell_type": "markdown",
   "id": "08837aa0-3b43-43fb-8463-323f731badfb",
   "metadata": {},
   "source": [
    "## Step 4: Segment behavior\n",
    "\n",
    "Behavioral segmentation in VAME is done in two steps: \n",
    "1. Segmentation of pose estimation data into motifs\n",
    "2. Clustering motifs in communities\n",
    "\n",
    "Let's start by running pose segmentation using two different algorithms: HMM and K-means. The results will be saved in the project folder.\n",
    "\n",
    "`segment_session` accepts the following optional arguments:\n",
    "- `overwrite_segmentation`: re-runs segmentation, overwriting previous results. Defaults to False.\n",
    "- `overwrite_embeddings`: re-runs the generation of the embeddings values, overwriting previous results. Defaults to False."
   ]
  },
  {
   "cell_type": "code",
   "execution_count": null,
   "id": "6276c865-bf49-4e30-8a61-facf35e59a74",
   "metadata": {
    "scrolled": true
   },
   "outputs": [],
   "source": [
    "vame.segment_session(\n",
    "    config=config_data,\n",
    "    overwrite_segmentation=False,\n",
    "    overwrite_embeddings=False,\n",
    ")"
   ]
  },
  {
   "cell_type": "markdown",
   "id": "7d33133e-dd21-4236-8e59-6d614356c211",
   "metadata": {},
   "source": [
    "Community detection is done by grouping similar motifs into communities using hierarchical clustering. For that you must choose `cut_tree`, which is the cut level for the hierarchical clustering"
   ]
  },
  {
   "cell_type": "code",
   "execution_count": null,
   "id": "8dad952e-01d8-4c2d-8564-afa5366d4f73",
   "metadata": {},
   "outputs": [],
   "source": [
    "vame.community(\n",
    "    config=config_data,\n",
    "    cut_tree=2,\n",
    ")"
   ]
  },
  {
   "cell_type": "markdown",
   "id": "08230379-d447-4f35-a2bc-a6b0b05b7bb8",
   "metadata": {},
   "source": [
    "## Step 5: Vizualization and analysis"
   ]
  },
  {
   "cell_type": "code",
   "execution_count": null,
   "id": "e5526d31-bfe1-450d-9544-110f2c75810f",
   "metadata": {},
   "outputs": [],
   "source": [
    "from vame.visualization import (\n",
    "    visualize_preprocessing_scatter,\n",
    "    visualize_preprocessing_timeseries,\n",
    "    visualize_preprocessing_cloud,\n",
    "    plot_loss,\n",
    "    visualize_hierarchical_tree,\n",
    "    visualize_umap,\n",
    ")"
   ]
  },
  {
   "cell_type": "code",
   "execution_count": null,
   "id": "19322883-8e67-4b6b-b485-0d75a1262316",
   "metadata": {
    "scrolled": true
   },
   "outputs": [],
   "source": [
    "visualize_preprocessing_scatter(config=config_data)"
   ]
  },
  {
   "cell_type": "code",
   "execution_count": null,
   "id": "cd2b72ac-c1a6-4550-8dff-c9e13d49f6f8",
   "metadata": {
    "scrolled": true
   },
   "outputs": [],
   "source": [
    "visualize_preprocessing_timeseries(config=config_data)"
   ]
  },
  {
   "cell_type": "code",
   "execution_count": null,
   "id": "9e7b6266-a03c-4646-b7e2-0a0fb9a0070d",
   "metadata": {
    "scrolled": true
   },
   "outputs": [],
   "source": [
    "visualize_preprocessing_cloud(config=config_data)"
   ]
  },
  {
   "cell_type": "code",
   "execution_count": null,
   "id": "37b45c89-1622-4e8d-916a-d8f4d8e580fa",
   "metadata": {},
   "outputs": [],
   "source": [
    "plot_loss(config=config_data, model_name=\"VAME\")"
   ]
  },
  {
   "cell_type": "code",
   "execution_count": null,
   "id": "178225b7-6c70-4a20-a9f0-67ba4cf73b15",
   "metadata": {},
   "outputs": [],
   "source": [
    "visualize_hierarchical_tree(\n",
    "    config=config_data,\n",
    "    segmentation_algorithm=\"hmm\",\n",
    ")"
   ]
  },
  {
   "cell_type": "code",
   "execution_count": null,
   "id": "a8762e2e-7e84-40dc-b302-7e5314f3f365",
   "metadata": {
    "scrolled": true
   },
   "outputs": [],
   "source": [
    "visualize_umap(\n",
    "    config=config_data,\n",
    "    show_figure=True,\n",
    ")"
   ]
  },
  {
   "cell_type": "markdown",
   "id": "ea91412d",
   "metadata": {},
   "source": [
    "#### Create motif and community videos\n",
    "\n",
    "VAME only needs the pose estimation data to generate motifs and communities. But it provides auxiliary functions to split original videos into motifs or communities videos."
   ]
  },
  {
   "cell_type": "code",
   "execution_count": null,
   "id": "6ef66040-c21d-4302-82ff-921e1e330857",
   "metadata": {},
   "outputs": [],
   "source": [
    "from vame.video import add_videos_to_project\n",
    "\n",
    "add_videos_to_project(config=config_data, videos=videos)"
   ]
  },
  {
   "cell_type": "markdown",
   "id": "2b350456-0347-4dcb-9e74-465c6f142322",
   "metadata": {},
   "source": [
    "Create motif videos to get insights about the fine grained poses:"
   ]
  },
  {
   "cell_type": "code",
   "execution_count": null,
   "id": "508a90bd",
   "metadata": {
    "scrolled": true
   },
   "outputs": [],
   "source": [
    "vame.motif_videos(config=config_data)"
   ]
  },
  {
   "cell_type": "markdown",
   "id": "66fc3080-f8b0-4624-8250-0c6f4ae1dcb9",
   "metadata": {},
   "source": [
    "Create community videos to get insights about behavior on a hierarchical scale:"
   ]
  },
  {
   "cell_type": "code",
   "execution_count": null,
   "id": "a3425c48",
   "metadata": {},
   "outputs": [],
   "source": [
    "vame.community_videos(config=config_data)"
   ]
  }
 ],
 "metadata": {
  "kernelspec": {
   "display_name": "vame-desktop",
   "language": "python",
   "name": "vame-desktop"
  },
  "language_info": {
   "codemirror_mode": {
    "name": "ipython",
    "version": 3
   },
   "file_extension": ".py",
   "mimetype": "text/x-python",
   "name": "python",
   "nbconvert_exporter": "python",
   "pygments_lexer": "ipython3",
   "version": "3.12.9"
  }
 },
 "nbformat": 4,
 "nbformat_minor": 5
}
