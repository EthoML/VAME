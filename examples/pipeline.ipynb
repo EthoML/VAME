{
 "cells": [
  {
   "cell_type": "markdown",
   "metadata": {},
   "source": [
    "Ther most convenient way to use VAME is through the VAME pipeline. The pipeline class automates the processes of:\n",
    "- loading the data\n",
    "- preprocessing the data\n",
    "- creating and training the VAME model\n",
    "- validating the VAME model\n",
    "- segmenting the behavior into motifs\n",
    "- clustering the motifs into communities\n",
    "- visualizing the results\n",
    "\n",
    "Let's start by importing the necessary libraries:"
   ]
  },
  {
   "cell_type": "code",
   "execution_count": null,
   "metadata": {},
   "outputs": [],
   "source": [
    "%load_ext autoreload\n",
    "%autoreload 2"
   ]
  },
  {
   "cell_type": "code",
   "execution_count": null,
   "metadata": {},
   "outputs": [],
   "source": [
    "import pprint\n",
    "from vame.pipeline import VAMEPipeline\n",
    "from vame.util.sample_data import download_sample_data"
   ]
  },
  {
   "cell_type": "markdown",
   "metadata": {},
   "source": [
    "## Input data\n",
    "\n",
    "To quickly try VAME, you can download sample data and use it as input. If you want to work with your own data, all you need to do is to provide the paths to the video and pose estimation files as lists of strings."
   ]
  },
  {
   "cell_type": "code",
   "execution_count": null,
   "metadata": {},
   "outputs": [],
   "source": [
    "# You can run VAME with data from different sources:\n",
    "# \"DeepLabCut\", \"SLEAP\" or \"LightningPose\"\n",
    "source_software = \"DeepLabCut\"\n",
    "\n",
    "# Download sample data\n",
    "ps = download_sample_data(source_software)\n",
    "videos = [ps[\"video\"]]\n",
    "poses_estimations = [ps[\"poses\"]]\n",
    "\n",
    "pprint.pp(videos)\n",
    "pprint.pp(poses_estimations)"
   ]
  },
  {
   "cell_type": "markdown",
   "metadata": {},
   "source": [
    "## Instantiate the VAME pipeline\n",
    "\n",
    "Now it's time to instantiate the VAME pipeline. Select your working directory, name of your project and extra configuration arguments. The extra configuration arguments are optional and can be used to customize the VAME pipeline."
   ]
  },
  {
   "cell_type": "code",
   "execution_count": null,
   "metadata": {},
   "outputs": [],
   "source": [
    "# Set up your working directory and project name\n",
    "working_directory = '.'\n",
    "project_name = 'pipeline_example_0'\n",
    "\n",
    "# Customize the configuration for the project\n",
    "config_kwargs = {\n",
    "    \"n_clusters\": 15,\n",
    "    \"pose_confidence\": 0.9,\n",
    "    \"max_epochs\": 10, #300,\n",
    "}\n",
    "\n",
    "# Instantiate the pipeline\n",
    "# this will create a VAME project and prepare the data\n",
    "pipeline = VAMEPipeline(\n",
    "    working_directory=working_directory,\n",
    "    project_name=project_name,\n",
    "    videos=videos,\n",
    "    poses_estimations=poses_estimations,\n",
    "    source_software=source_software,\n",
    "    config_kwargs=config_kwargs,\n",
    ")"
   ]
  },
  {
   "cell_type": "markdown",
   "metadata": {},
   "source": [
    "Before running the pipeline, you can check the input datasets:"
   ]
  },
  {
   "cell_type": "code",
   "execution_count": null,
   "metadata": {},
   "outputs": [],
   "source": [
    "ds = pipeline.get_raw_datasets()\n",
    "ds"
   ]
  },
  {
   "cell_type": "markdown",
   "metadata": {},
   "source": [
    "## Run the pipeline\n",
    "\n",
    "Now you can run the pipeline. At this point, you should pass the names of the pose estimation keypoints to be used for egocentric alignment.\n",
    "\n",
    "Note: The pipeline will take some time to run, depending on the size of the dataset, number of epochs, and if you are using a GPU or not."
   ]
  },
  {
   "cell_type": "code",
   "execution_count": null,
   "metadata": {
    "scrolled": true
   },
   "outputs": [],
   "source": [
    "preprocessing_kwargs = {\n",
    "    \"centered_reference_keypoint\": \"snout\",\n",
    "    \"orientation_reference_keypoint\": \"tailbase\",\n",
    "}\n",
    "pipeline.run_pipeline(preprocessing_kwargs=preprocessing_kwargs)"
   ]
  },
  {
   "cell_type": "markdown",
   "metadata": {},
   "source": [
    "## Visualize the results\n",
    "\n",
    "After running the pipeline, you can visualize the results:"
   ]
  },
  {
   "cell_type": "code",
   "execution_count": null,
   "metadata": {
    "scrolled": true
   },
   "outputs": [],
   "source": [
    "pipeline.visualize_preprocessing(\n",
    "    show_figure=True,\n",
    "    save_to_file=False,\n",
    ")"
   ]
  },
  {
   "cell_type": "code",
   "execution_count": null,
   "metadata": {},
   "outputs": [],
   "source": [
    "pipeline.visualize_model_losses(\n",
    "    save_to_file=False,\n",
    "    show_figure=True,\n",
    ")"
   ]
  },
  {
   "cell_type": "code",
   "execution_count": null,
   "metadata": {},
   "outputs": [],
   "source": [
    "pipeline.visualize_umap(\n",
    "    label=\"community\",\n",
    "    segmentation_algorithm=\"hmm\",\n",
    "    show_figure=True,\n",
    ")"
   ]
  },
  {
   "cell_type": "markdown",
   "metadata": {},
   "source": [
    "## Produce the pipeline report"
   ]
  },
  {
   "cell_type": "code",
   "execution_count": null,
   "metadata": {},
   "outputs": [],
   "source": [
    "pipeline.report()"
   ]
  },
  {
   "cell_type": "markdown",
   "metadata": {},
   "source": [
    "## Resuming the pipeline\n",
    "\n",
    "If for some reason you need to stop the pipeline, you can resume it later from any step\n",
    "Example: resuming from community clustering step"
   ]
  },
  {
   "cell_type": "code",
   "execution_count": null,
   "metadata": {},
   "outputs": [],
   "source": [
    "pipeline.run_pipeline(from_step=5)"
   ]
  }
 ],
 "metadata": {
  "kernelspec": {
   "display_name": "Python 3 (ipykernel)",
   "language": "python",
   "name": "python3"
  },
  "language_info": {
   "codemirror_mode": {
    "name": "ipython",
    "version": 3
   },
   "file_extension": ".py",
   "mimetype": "text/x-python",
   "name": "python",
   "nbconvert_exporter": "python",
   "pygments_lexer": "ipython3",
   "version": "3.11.9"
  }
 },
 "nbformat": 4,
 "nbformat_minor": 4
}
